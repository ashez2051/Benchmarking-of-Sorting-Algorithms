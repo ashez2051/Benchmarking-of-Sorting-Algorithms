{
 "cells": [
  {
   "cell_type": "markdown",
   "metadata": {},
   "source": [
    "## For small dataset"
   ]
  },
  {
   "cell_type": "code",
   "execution_count": 1,
   "metadata": {},
   "outputs": [],
   "source": [
    "import pandas as pd\n",
    "import seaborn as sns\n",
    "import matplotlib.pyplot as plt\n",
    "#plt.figure(figsize=(84/25.4, 55/25.4))"
   ]
  },
  {
   "cell_type": "code",
   "execution_count": 2,
   "metadata": {},
   "outputs": [],
   "source": [
    "sns.set(rc={'figure.figsize':(84/25.4,55/25.4)})\n",
    "sns.set_style(\"whitegrid\")"
   ]
  },
  {
   "cell_type": "code",
   "execution_count": 3,
   "metadata": {},
   "outputs": [],
   "source": [
    "sns.set(style='whitegrid', rc={\"grid.linewidth\": 0.1})\n",
    "sns.set_context(\"paper\", font_scale=0.9) \n",
    "color = sns.color_palette(\"Set2\", 6)"
   ]
  },
  {
   "cell_type": "code",
   "execution_count": 4,
   "metadata": {},
   "outputs": [],
   "source": [
    "quick =pd.read_pickle(\"./benchmark_results_quick.pkl\")"
   ]
  },
  {
   "cell_type": "code",
   "execution_count": 5,
   "metadata": {},
   "outputs": [
    {
     "data": {
      "text/html": [
       "<div>\n",
       "<style scoped>\n",
       "    .dataframe tbody tr th:only-of-type {\n",
       "        vertical-align: middle;\n",
       "    }\n",
       "\n",
       "    .dataframe tbody tr th {\n",
       "        vertical-align: top;\n",
       "    }\n",
       "\n",
       "    .dataframe thead th {\n",
       "        text-align: right;\n",
       "    }\n",
       "</style>\n",
       "<table border=\"1\" class=\"dataframe\">\n",
       "  <thead>\n",
       "    <tr style=\"text-align: right;\">\n",
       "      <th></th>\n",
       "      <th>input ordering</th>\n",
       "      <th>input size</th>\n",
       "      <th>run number</th>\n",
       "      <th>sorting algorithm</th>\n",
       "      <th>time</th>\n",
       "    </tr>\n",
       "  </thead>\n",
       "  <tbody>\n",
       "    <tr>\n",
       "      <th>0</th>\n",
       "      <td>sorted</td>\n",
       "      <td>10</td>\n",
       "      <td>1</td>\n",
       "      <td>Quicksort</td>\n",
       "      <td>2.097347e-05</td>\n",
       "    </tr>\n",
       "    <tr>\n",
       "      <th>1</th>\n",
       "      <td>sorted</td>\n",
       "      <td>10</td>\n",
       "      <td>2</td>\n",
       "      <td>Quicksort</td>\n",
       "      <td>1.735979e-05</td>\n",
       "    </tr>\n",
       "    <tr>\n",
       "      <th>2</th>\n",
       "      <td>sorted</td>\n",
       "      <td>10</td>\n",
       "      <td>3</td>\n",
       "      <td>Quicksort</td>\n",
       "      <td>1.368584e-05</td>\n",
       "    </tr>\n",
       "    <tr>\n",
       "      <th>3</th>\n",
       "      <td>sorted</td>\n",
       "      <td>10</td>\n",
       "      <td>4</td>\n",
       "      <td>Quicksort</td>\n",
       "      <td>1.972732e-05</td>\n",
       "    </tr>\n",
       "    <tr>\n",
       "      <th>4</th>\n",
       "      <td>sorted</td>\n",
       "      <td>10</td>\n",
       "      <td>5</td>\n",
       "      <td>Quicksort</td>\n",
       "      <td>2.310066e-05</td>\n",
       "    </tr>\n",
       "    <tr>\n",
       "      <th>5</th>\n",
       "      <td>sorted</td>\n",
       "      <td>100</td>\n",
       "      <td>1</td>\n",
       "      <td>Quicksort</td>\n",
       "      <td>7.756160e-04</td>\n",
       "    </tr>\n",
       "    <tr>\n",
       "      <th>6</th>\n",
       "      <td>sorted</td>\n",
       "      <td>100</td>\n",
       "      <td>2</td>\n",
       "      <td>Quicksort</td>\n",
       "      <td>7.582034e-04</td>\n",
       "    </tr>\n",
       "    <tr>\n",
       "      <th>7</th>\n",
       "      <td>sorted</td>\n",
       "      <td>100</td>\n",
       "      <td>3</td>\n",
       "      <td>Quicksort</td>\n",
       "      <td>7.742876e-04</td>\n",
       "    </tr>\n",
       "    <tr>\n",
       "      <th>8</th>\n",
       "      <td>sorted</td>\n",
       "      <td>100</td>\n",
       "      <td>4</td>\n",
       "      <td>Quicksort</td>\n",
       "      <td>7.807454e-04</td>\n",
       "    </tr>\n",
       "    <tr>\n",
       "      <th>9</th>\n",
       "      <td>sorted</td>\n",
       "      <td>100</td>\n",
       "      <td>5</td>\n",
       "      <td>Quicksort</td>\n",
       "      <td>7.575598e-04</td>\n",
       "    </tr>\n",
       "    <tr>\n",
       "      <th>10</th>\n",
       "      <td>sorted</td>\n",
       "      <td>1000</td>\n",
       "      <td>1</td>\n",
       "      <td>Quicksort</td>\n",
       "      <td>8.027072e-02</td>\n",
       "    </tr>\n",
       "    <tr>\n",
       "      <th>11</th>\n",
       "      <td>sorted</td>\n",
       "      <td>1000</td>\n",
       "      <td>2</td>\n",
       "      <td>Quicksort</td>\n",
       "      <td>7.976368e-02</td>\n",
       "    </tr>\n",
       "    <tr>\n",
       "      <th>12</th>\n",
       "      <td>sorted</td>\n",
       "      <td>1000</td>\n",
       "      <td>3</td>\n",
       "      <td>Quicksort</td>\n",
       "      <td>7.706708e-02</td>\n",
       "    </tr>\n",
       "    <tr>\n",
       "      <th>13</th>\n",
       "      <td>sorted</td>\n",
       "      <td>1000</td>\n",
       "      <td>4</td>\n",
       "      <td>Quicksort</td>\n",
       "      <td>7.794704e-02</td>\n",
       "    </tr>\n",
       "    <tr>\n",
       "      <th>14</th>\n",
       "      <td>sorted</td>\n",
       "      <td>1000</td>\n",
       "      <td>5</td>\n",
       "      <td>Quicksort</td>\n",
       "      <td>7.750040e-02</td>\n",
       "    </tr>\n",
       "    <tr>\n",
       "      <th>15</th>\n",
       "      <td>reversed</td>\n",
       "      <td>10</td>\n",
       "      <td>1</td>\n",
       "      <td>Quicksort</td>\n",
       "      <td>1.534006e-05</td>\n",
       "    </tr>\n",
       "    <tr>\n",
       "      <th>16</th>\n",
       "      <td>reversed</td>\n",
       "      <td>10</td>\n",
       "      <td>2</td>\n",
       "      <td>Quicksort</td>\n",
       "      <td>1.472334e-05</td>\n",
       "    </tr>\n",
       "    <tr>\n",
       "      <th>17</th>\n",
       "      <td>reversed</td>\n",
       "      <td>10</td>\n",
       "      <td>3</td>\n",
       "      <td>Quicksort</td>\n",
       "      <td>1.158177e-05</td>\n",
       "    </tr>\n",
       "    <tr>\n",
       "      <th>18</th>\n",
       "      <td>reversed</td>\n",
       "      <td>10</td>\n",
       "      <td>4</td>\n",
       "      <td>Quicksort</td>\n",
       "      <td>1.515113e-05</td>\n",
       "    </tr>\n",
       "    <tr>\n",
       "      <th>19</th>\n",
       "      <td>reversed</td>\n",
       "      <td>10</td>\n",
       "      <td>5</td>\n",
       "      <td>Quicksort</td>\n",
       "      <td>1.267335e-05</td>\n",
       "    </tr>\n",
       "    <tr>\n",
       "      <th>20</th>\n",
       "      <td>reversed</td>\n",
       "      <td>100</td>\n",
       "      <td>1</td>\n",
       "      <td>Quicksort</td>\n",
       "      <td>7.577212e-04</td>\n",
       "    </tr>\n",
       "    <tr>\n",
       "      <th>21</th>\n",
       "      <td>reversed</td>\n",
       "      <td>100</td>\n",
       "      <td>2</td>\n",
       "      <td>Quicksort</td>\n",
       "      <td>7.619144e-04</td>\n",
       "    </tr>\n",
       "    <tr>\n",
       "      <th>22</th>\n",
       "      <td>reversed</td>\n",
       "      <td>100</td>\n",
       "      <td>3</td>\n",
       "      <td>Quicksort</td>\n",
       "      <td>8.533006e-04</td>\n",
       "    </tr>\n",
       "    <tr>\n",
       "      <th>23</th>\n",
       "      <td>reversed</td>\n",
       "      <td>100</td>\n",
       "      <td>4</td>\n",
       "      <td>Quicksort</td>\n",
       "      <td>7.463688e-04</td>\n",
       "    </tr>\n",
       "    <tr>\n",
       "      <th>24</th>\n",
       "      <td>reversed</td>\n",
       "      <td>100</td>\n",
       "      <td>5</td>\n",
       "      <td>Quicksort</td>\n",
       "      <td>7.505650e-04</td>\n",
       "    </tr>\n",
       "    <tr>\n",
       "      <th>25</th>\n",
       "      <td>reversed</td>\n",
       "      <td>1000</td>\n",
       "      <td>1</td>\n",
       "      <td>Quicksort</td>\n",
       "      <td>6.765160e-02</td>\n",
       "    </tr>\n",
       "    <tr>\n",
       "      <th>26</th>\n",
       "      <td>reversed</td>\n",
       "      <td>1000</td>\n",
       "      <td>2</td>\n",
       "      <td>Quicksort</td>\n",
       "      <td>7.445614e-02</td>\n",
       "    </tr>\n",
       "    <tr>\n",
       "      <th>27</th>\n",
       "      <td>reversed</td>\n",
       "      <td>1000</td>\n",
       "      <td>3</td>\n",
       "      <td>Quicksort</td>\n",
       "      <td>6.906254e-02</td>\n",
       "    </tr>\n",
       "    <tr>\n",
       "      <th>28</th>\n",
       "      <td>reversed</td>\n",
       "      <td>1000</td>\n",
       "      <td>4</td>\n",
       "      <td>Quicksort</td>\n",
       "      <td>6.199364e-02</td>\n",
       "    </tr>\n",
       "    <tr>\n",
       "      <th>29</th>\n",
       "      <td>reversed</td>\n",
       "      <td>1000</td>\n",
       "      <td>5</td>\n",
       "      <td>Quicksort</td>\n",
       "      <td>7.322534e-02</td>\n",
       "    </tr>\n",
       "    <tr>\n",
       "      <th>30</th>\n",
       "      <td>random</td>\n",
       "      <td>10</td>\n",
       "      <td>1</td>\n",
       "      <td>Quicksort</td>\n",
       "      <td>1.832455e-05</td>\n",
       "    </tr>\n",
       "    <tr>\n",
       "      <th>31</th>\n",
       "      <td>random</td>\n",
       "      <td>10</td>\n",
       "      <td>2</td>\n",
       "      <td>Quicksort</td>\n",
       "      <td>1.820419e-05</td>\n",
       "    </tr>\n",
       "    <tr>\n",
       "      <th>32</th>\n",
       "      <td>random</td>\n",
       "      <td>10</td>\n",
       "      <td>3</td>\n",
       "      <td>Quicksort</td>\n",
       "      <td>1.936525e-05</td>\n",
       "    </tr>\n",
       "    <tr>\n",
       "      <th>33</th>\n",
       "      <td>random</td>\n",
       "      <td>10</td>\n",
       "      <td>4</td>\n",
       "      <td>Quicksort</td>\n",
       "      <td>1.899790e-05</td>\n",
       "    </tr>\n",
       "    <tr>\n",
       "      <th>34</th>\n",
       "      <td>random</td>\n",
       "      <td>10</td>\n",
       "      <td>5</td>\n",
       "      <td>Quicksort</td>\n",
       "      <td>1.802363e-05</td>\n",
       "    </tr>\n",
       "    <tr>\n",
       "      <th>35</th>\n",
       "      <td>random</td>\n",
       "      <td>100</td>\n",
       "      <td>1</td>\n",
       "      <td>Quicksort</td>\n",
       "      <td>3.286145e-04</td>\n",
       "    </tr>\n",
       "    <tr>\n",
       "      <th>36</th>\n",
       "      <td>random</td>\n",
       "      <td>100</td>\n",
       "      <td>2</td>\n",
       "      <td>Quicksort</td>\n",
       "      <td>3.243022e-04</td>\n",
       "    </tr>\n",
       "    <tr>\n",
       "      <th>37</th>\n",
       "      <td>random</td>\n",
       "      <td>100</td>\n",
       "      <td>3</td>\n",
       "      <td>Quicksort</td>\n",
       "      <td>3.262992e-04</td>\n",
       "    </tr>\n",
       "    <tr>\n",
       "      <th>38</th>\n",
       "      <td>random</td>\n",
       "      <td>100</td>\n",
       "      <td>4</td>\n",
       "      <td>Quicksort</td>\n",
       "      <td>3.195117e-04</td>\n",
       "    </tr>\n",
       "    <tr>\n",
       "      <th>39</th>\n",
       "      <td>random</td>\n",
       "      <td>100</td>\n",
       "      <td>5</td>\n",
       "      <td>Quicksort</td>\n",
       "      <td>3.240887e-04</td>\n",
       "    </tr>\n",
       "    <tr>\n",
       "      <th>40</th>\n",
       "      <td>random</td>\n",
       "      <td>1000</td>\n",
       "      <td>1</td>\n",
       "      <td>Quicksort</td>\n",
       "      <td>6.095962e-03</td>\n",
       "    </tr>\n",
       "    <tr>\n",
       "      <th>41</th>\n",
       "      <td>random</td>\n",
       "      <td>1000</td>\n",
       "      <td>2</td>\n",
       "      <td>Quicksort</td>\n",
       "      <td>5.959418e-03</td>\n",
       "    </tr>\n",
       "    <tr>\n",
       "      <th>42</th>\n",
       "      <td>random</td>\n",
       "      <td>1000</td>\n",
       "      <td>3</td>\n",
       "      <td>Quicksort</td>\n",
       "      <td>6.264676e-03</td>\n",
       "    </tr>\n",
       "    <tr>\n",
       "      <th>43</th>\n",
       "      <td>random</td>\n",
       "      <td>1000</td>\n",
       "      <td>4</td>\n",
       "      <td>Quicksort</td>\n",
       "      <td>6.041094e-03</td>\n",
       "    </tr>\n",
       "    <tr>\n",
       "      <th>44</th>\n",
       "      <td>random</td>\n",
       "      <td>1000</td>\n",
       "      <td>5</td>\n",
       "      <td>Quicksort</td>\n",
       "      <td>6.178878e-03</td>\n",
       "    </tr>\n",
       "    <tr>\n",
       "      <th>45</th>\n",
       "      <td>identical</td>\n",
       "      <td>10</td>\n",
       "      <td>1</td>\n",
       "      <td>Quicksort</td>\n",
       "      <td>6.509942e-07</td>\n",
       "    </tr>\n",
       "    <tr>\n",
       "      <th>46</th>\n",
       "      <td>identical</td>\n",
       "      <td>10</td>\n",
       "      <td>2</td>\n",
       "      <td>Quicksort</td>\n",
       "      <td>6.715346e-07</td>\n",
       "    </tr>\n",
       "    <tr>\n",
       "      <th>47</th>\n",
       "      <td>identical</td>\n",
       "      <td>10</td>\n",
       "      <td>3</td>\n",
       "      <td>Quicksort</td>\n",
       "      <td>6.359488e-07</td>\n",
       "    </tr>\n",
       "    <tr>\n",
       "      <th>48</th>\n",
       "      <td>identical</td>\n",
       "      <td>10</td>\n",
       "      <td>4</td>\n",
       "      <td>Quicksort</td>\n",
       "      <td>6.536126e-07</td>\n",
       "    </tr>\n",
       "    <tr>\n",
       "      <th>49</th>\n",
       "      <td>identical</td>\n",
       "      <td>10</td>\n",
       "      <td>5</td>\n",
       "      <td>Quicksort</td>\n",
       "      <td>6.360432e-07</td>\n",
       "    </tr>\n",
       "    <tr>\n",
       "      <th>50</th>\n",
       "      <td>identical</td>\n",
       "      <td>100</td>\n",
       "      <td>1</td>\n",
       "      <td>Quicksort</td>\n",
       "      <td>6.588914e-07</td>\n",
       "    </tr>\n",
       "    <tr>\n",
       "      <th>51</th>\n",
       "      <td>identical</td>\n",
       "      <td>100</td>\n",
       "      <td>2</td>\n",
       "      <td>Quicksort</td>\n",
       "      <td>7.125558e-07</td>\n",
       "    </tr>\n",
       "    <tr>\n",
       "      <th>52</th>\n",
       "      <td>identical</td>\n",
       "      <td>100</td>\n",
       "      <td>3</td>\n",
       "      <td>Quicksort</td>\n",
       "      <td>6.708222e-07</td>\n",
       "    </tr>\n",
       "    <tr>\n",
       "      <th>53</th>\n",
       "      <td>identical</td>\n",
       "      <td>100</td>\n",
       "      <td>4</td>\n",
       "      <td>Quicksort</td>\n",
       "      <td>6.406222e-07</td>\n",
       "    </tr>\n",
       "    <tr>\n",
       "      <th>54</th>\n",
       "      <td>identical</td>\n",
       "      <td>100</td>\n",
       "      <td>5</td>\n",
       "      <td>Quicksort</td>\n",
       "      <td>6.534862e-07</td>\n",
       "    </tr>\n",
       "    <tr>\n",
       "      <th>55</th>\n",
       "      <td>identical</td>\n",
       "      <td>1000</td>\n",
       "      <td>1</td>\n",
       "      <td>Quicksort</td>\n",
       "      <td>6.595618e-07</td>\n",
       "    </tr>\n",
       "    <tr>\n",
       "      <th>56</th>\n",
       "      <td>identical</td>\n",
       "      <td>1000</td>\n",
       "      <td>2</td>\n",
       "      <td>Quicksort</td>\n",
       "      <td>6.401518e-07</td>\n",
       "    </tr>\n",
       "    <tr>\n",
       "      <th>57</th>\n",
       "      <td>identical</td>\n",
       "      <td>1000</td>\n",
       "      <td>3</td>\n",
       "      <td>Quicksort</td>\n",
       "      <td>6.575894e-07</td>\n",
       "    </tr>\n",
       "    <tr>\n",
       "      <th>58</th>\n",
       "      <td>identical</td>\n",
       "      <td>1000</td>\n",
       "      <td>4</td>\n",
       "      <td>Quicksort</td>\n",
       "      <td>5.089958e-07</td>\n",
       "    </tr>\n",
       "    <tr>\n",
       "      <th>59</th>\n",
       "      <td>identical</td>\n",
       "      <td>1000</td>\n",
       "      <td>5</td>\n",
       "      <td>Quicksort</td>\n",
       "      <td>4.848920e-07</td>\n",
       "    </tr>\n",
       "  </tbody>\n",
       "</table>\n",
       "</div>"
      ],
      "text/plain": [
       "   input ordering input size run number sorting algorithm          time\n",
       "0          sorted         10          1         Quicksort  2.097347e-05\n",
       "1          sorted         10          2         Quicksort  1.735979e-05\n",
       "2          sorted         10          3         Quicksort  1.368584e-05\n",
       "3          sorted         10          4         Quicksort  1.972732e-05\n",
       "4          sorted         10          5         Quicksort  2.310066e-05\n",
       "5          sorted        100          1         Quicksort  7.756160e-04\n",
       "6          sorted        100          2         Quicksort  7.582034e-04\n",
       "7          sorted        100          3         Quicksort  7.742876e-04\n",
       "8          sorted        100          4         Quicksort  7.807454e-04\n",
       "9          sorted        100          5         Quicksort  7.575598e-04\n",
       "10         sorted       1000          1         Quicksort  8.027072e-02\n",
       "11         sorted       1000          2         Quicksort  7.976368e-02\n",
       "12         sorted       1000          3         Quicksort  7.706708e-02\n",
       "13         sorted       1000          4         Quicksort  7.794704e-02\n",
       "14         sorted       1000          5         Quicksort  7.750040e-02\n",
       "15       reversed         10          1         Quicksort  1.534006e-05\n",
       "16       reversed         10          2         Quicksort  1.472334e-05\n",
       "17       reversed         10          3         Quicksort  1.158177e-05\n",
       "18       reversed         10          4         Quicksort  1.515113e-05\n",
       "19       reversed         10          5         Quicksort  1.267335e-05\n",
       "20       reversed        100          1         Quicksort  7.577212e-04\n",
       "21       reversed        100          2         Quicksort  7.619144e-04\n",
       "22       reversed        100          3         Quicksort  8.533006e-04\n",
       "23       reversed        100          4         Quicksort  7.463688e-04\n",
       "24       reversed        100          5         Quicksort  7.505650e-04\n",
       "25       reversed       1000          1         Quicksort  6.765160e-02\n",
       "26       reversed       1000          2         Quicksort  7.445614e-02\n",
       "27       reversed       1000          3         Quicksort  6.906254e-02\n",
       "28       reversed       1000          4         Quicksort  6.199364e-02\n",
       "29       reversed       1000          5         Quicksort  7.322534e-02\n",
       "30         random         10          1         Quicksort  1.832455e-05\n",
       "31         random         10          2         Quicksort  1.820419e-05\n",
       "32         random         10          3         Quicksort  1.936525e-05\n",
       "33         random         10          4         Quicksort  1.899790e-05\n",
       "34         random         10          5         Quicksort  1.802363e-05\n",
       "35         random        100          1         Quicksort  3.286145e-04\n",
       "36         random        100          2         Quicksort  3.243022e-04\n",
       "37         random        100          3         Quicksort  3.262992e-04\n",
       "38         random        100          4         Quicksort  3.195117e-04\n",
       "39         random        100          5         Quicksort  3.240887e-04\n",
       "40         random       1000          1         Quicksort  6.095962e-03\n",
       "41         random       1000          2         Quicksort  5.959418e-03\n",
       "42         random       1000          3         Quicksort  6.264676e-03\n",
       "43         random       1000          4         Quicksort  6.041094e-03\n",
       "44         random       1000          5         Quicksort  6.178878e-03\n",
       "45      identical         10          1         Quicksort  6.509942e-07\n",
       "46      identical         10          2         Quicksort  6.715346e-07\n",
       "47      identical         10          3         Quicksort  6.359488e-07\n",
       "48      identical         10          4         Quicksort  6.536126e-07\n",
       "49      identical         10          5         Quicksort  6.360432e-07\n",
       "50      identical        100          1         Quicksort  6.588914e-07\n",
       "51      identical        100          2         Quicksort  7.125558e-07\n",
       "52      identical        100          3         Quicksort  6.708222e-07\n",
       "53      identical        100          4         Quicksort  6.406222e-07\n",
       "54      identical        100          5         Quicksort  6.534862e-07\n",
       "55      identical       1000          1         Quicksort  6.595618e-07\n",
       "56      identical       1000          2         Quicksort  6.401518e-07\n",
       "57      identical       1000          3         Quicksort  6.575894e-07\n",
       "58      identical       1000          4         Quicksort  5.089958e-07\n",
       "59      identical       1000          5         Quicksort  4.848920e-07"
      ]
     },
     "execution_count": 5,
     "metadata": {},
     "output_type": "execute_result"
    }
   ],
   "source": [
    "quick"
   ]
  },
  {
   "cell_type": "code",
   "execution_count": 8,
   "metadata": {},
   "outputs": [
    {
     "ename": "ValueError",
     "evalue": "Grouper for '<class 'pandas.core.frame.DataFrame'>' not 1-dimensional",
     "output_type": "error",
     "traceback": [
      "\u001b[1;31m---------------------------------------------------------------------------\u001b[0m",
      "\u001b[1;31mValueError\u001b[0m                                Traceback (most recent call last)",
      "\u001b[1;32m<ipython-input-8-e542ed51a3d2>\u001b[0m in \u001b[0;36m<module>\u001b[1;34m\u001b[0m\n\u001b[1;32m----> 1\u001b[1;33m \u001b[0mquick\u001b[0m\u001b[1;33m.\u001b[0m\u001b[0mgroupby\u001b[0m\u001b[1;33m(\u001b[0m\u001b[0mquick\u001b[0m\u001b[1;33m[\u001b[0m\u001b[0mquick\u001b[0m\u001b[1;33m[\u001b[0m\u001b[1;34m'input ordering'\u001b[0m\u001b[1;33m]\u001b[0m\u001b[1;33m==\u001b[0m\u001b[1;34m'sorted'\u001b[0m\u001b[1;33m]\u001b[0m\u001b[1;33m)\u001b[0m\u001b[1;33m.\u001b[0m\u001b[0mmin\u001b[0m\u001b[1;33m(\u001b[0m\u001b[1;33m)\u001b[0m\u001b[1;33m\u001b[0m\u001b[1;33m\u001b[0m\u001b[0m\n\u001b[0m",
      "\u001b[1;32m~\\Anaconda3\\lib\\site-packages\\pandas\\core\\generic.py\u001b[0m in \u001b[0;36mgroupby\u001b[1;34m(self, by, axis, level, as_index, sort, group_keys, squeeze, observed, **kwargs)\u001b[0m\n\u001b[0;32m   7630\u001b[0m         return groupby(self, by=by, axis=axis, level=level, as_index=as_index,\n\u001b[0;32m   7631\u001b[0m                        \u001b[0msort\u001b[0m\u001b[1;33m=\u001b[0m\u001b[0msort\u001b[0m\u001b[1;33m,\u001b[0m \u001b[0mgroup_keys\u001b[0m\u001b[1;33m=\u001b[0m\u001b[0mgroup_keys\u001b[0m\u001b[1;33m,\u001b[0m \u001b[0msqueeze\u001b[0m\u001b[1;33m=\u001b[0m\u001b[0msqueeze\u001b[0m\u001b[1;33m,\u001b[0m\u001b[1;33m\u001b[0m\u001b[1;33m\u001b[0m\u001b[0m\n\u001b[1;32m-> 7632\u001b[1;33m                        observed=observed, **kwargs)\n\u001b[0m\u001b[0;32m   7633\u001b[0m \u001b[1;33m\u001b[0m\u001b[0m\n\u001b[0;32m   7634\u001b[0m     def asfreq(self, freq, method=None, how=None, normalize=False,\n",
      "\u001b[1;32m~\\Anaconda3\\lib\\site-packages\\pandas\\core\\groupby\\groupby.py\u001b[0m in \u001b[0;36mgroupby\u001b[1;34m(obj, by, **kwds)\u001b[0m\n\u001b[0;32m   2108\u001b[0m         \u001b[1;32mraise\u001b[0m \u001b[0mTypeError\u001b[0m\u001b[1;33m(\u001b[0m\u001b[1;34m'invalid type: {}'\u001b[0m\u001b[1;33m.\u001b[0m\u001b[0mformat\u001b[0m\u001b[1;33m(\u001b[0m\u001b[0mobj\u001b[0m\u001b[1;33m)\u001b[0m\u001b[1;33m)\u001b[0m\u001b[1;33m\u001b[0m\u001b[1;33m\u001b[0m\u001b[0m\n\u001b[0;32m   2109\u001b[0m \u001b[1;33m\u001b[0m\u001b[0m\n\u001b[1;32m-> 2110\u001b[1;33m     \u001b[1;32mreturn\u001b[0m \u001b[0mklass\u001b[0m\u001b[1;33m(\u001b[0m\u001b[0mobj\u001b[0m\u001b[1;33m,\u001b[0m \u001b[0mby\u001b[0m\u001b[1;33m,\u001b[0m \u001b[1;33m**\u001b[0m\u001b[0mkwds\u001b[0m\u001b[1;33m)\u001b[0m\u001b[1;33m\u001b[0m\u001b[1;33m\u001b[0m\u001b[0m\n\u001b[0m",
      "\u001b[1;32m~\\Anaconda3\\lib\\site-packages\\pandas\\core\\groupby\\groupby.py\u001b[0m in \u001b[0;36m__init__\u001b[1;34m(self, obj, keys, axis, level, grouper, exclusions, selection, as_index, sort, group_keys, squeeze, observed, **kwargs)\u001b[0m\n\u001b[0;32m    358\u001b[0m                                                     \u001b[0msort\u001b[0m\u001b[1;33m=\u001b[0m\u001b[0msort\u001b[0m\u001b[1;33m,\u001b[0m\u001b[1;33m\u001b[0m\u001b[1;33m\u001b[0m\u001b[0m\n\u001b[0;32m    359\u001b[0m                                                     \u001b[0mobserved\u001b[0m\u001b[1;33m=\u001b[0m\u001b[0mobserved\u001b[0m\u001b[1;33m,\u001b[0m\u001b[1;33m\u001b[0m\u001b[1;33m\u001b[0m\u001b[0m\n\u001b[1;32m--> 360\u001b[1;33m                                                     mutated=self.mutated)\n\u001b[0m\u001b[0;32m    361\u001b[0m \u001b[1;33m\u001b[0m\u001b[0m\n\u001b[0;32m    362\u001b[0m         \u001b[0mself\u001b[0m\u001b[1;33m.\u001b[0m\u001b[0mobj\u001b[0m \u001b[1;33m=\u001b[0m \u001b[0mobj\u001b[0m\u001b[1;33m\u001b[0m\u001b[1;33m\u001b[0m\u001b[0m\n",
      "\u001b[1;32m~\\Anaconda3\\lib\\site-packages\\pandas\\core\\groupby\\grouper.py\u001b[0m in \u001b[0;36m_get_grouper\u001b[1;34m(obj, key, axis, level, sort, observed, mutated, validate)\u001b[0m\n\u001b[0;32m    600\u001b[0m                          \u001b[0mobserved\u001b[0m\u001b[1;33m=\u001b[0m\u001b[0mobserved\u001b[0m\u001b[1;33m,\u001b[0m\u001b[1;33m\u001b[0m\u001b[1;33m\u001b[0m\u001b[0m\n\u001b[0;32m    601\u001b[0m                          in_axis=in_axis)\n\u001b[1;32m--> 602\u001b[1;33m                 if not isinstance(gpr, Grouping) else gpr)\n\u001b[0m\u001b[0;32m    603\u001b[0m \u001b[1;33m\u001b[0m\u001b[0m\n\u001b[0;32m    604\u001b[0m         \u001b[0mgroupings\u001b[0m\u001b[1;33m.\u001b[0m\u001b[0mappend\u001b[0m\u001b[1;33m(\u001b[0m\u001b[0mping\u001b[0m\u001b[1;33m)\u001b[0m\u001b[1;33m\u001b[0m\u001b[1;33m\u001b[0m\u001b[0m\n",
      "\u001b[1;32m~\\Anaconda3\\lib\\site-packages\\pandas\\core\\groupby\\grouper.py\u001b[0m in \u001b[0;36m__init__\u001b[1;34m(self, index, grouper, obj, name, level, sort, observed, in_axis)\u001b[0m\n\u001b[0;32m    320\u001b[0m                     \u001b[0mt\u001b[0m \u001b[1;33m=\u001b[0m \u001b[0mself\u001b[0m\u001b[1;33m.\u001b[0m\u001b[0mname\u001b[0m \u001b[1;32mor\u001b[0m \u001b[0mstr\u001b[0m\u001b[1;33m(\u001b[0m\u001b[0mtype\u001b[0m\u001b[1;33m(\u001b[0m\u001b[0mself\u001b[0m\u001b[1;33m.\u001b[0m\u001b[0mgrouper\u001b[0m\u001b[1;33m)\u001b[0m\u001b[1;33m)\u001b[0m\u001b[1;33m\u001b[0m\u001b[1;33m\u001b[0m\u001b[0m\n\u001b[0;32m    321\u001b[0m                     raise ValueError(\n\u001b[1;32m--> 322\u001b[1;33m                         \"Grouper for '{}' not 1-dimensional\".format(t))\n\u001b[0m\u001b[0;32m    323\u001b[0m                 \u001b[0mself\u001b[0m\u001b[1;33m.\u001b[0m\u001b[0mgrouper\u001b[0m \u001b[1;33m=\u001b[0m \u001b[0mself\u001b[0m\u001b[1;33m.\u001b[0m\u001b[0mindex\u001b[0m\u001b[1;33m.\u001b[0m\u001b[0mmap\u001b[0m\u001b[1;33m(\u001b[0m\u001b[0mself\u001b[0m\u001b[1;33m.\u001b[0m\u001b[0mgrouper\u001b[0m\u001b[1;33m)\u001b[0m\u001b[1;33m\u001b[0m\u001b[1;33m\u001b[0m\u001b[0m\n\u001b[0;32m    324\u001b[0m                 if not (hasattr(self.grouper, \"__len__\") and\n",
      "\u001b[1;31mValueError\u001b[0m: Grouper for '<class 'pandas.core.frame.DataFrame'>' not 1-dimensional"
     ]
    }
   ],
   "source": [
    "quick.groupby(quick[quick['input ordering']=='sorted']).min()"
   ]
  },
  {
   "cell_type": "code",
   "execution_count": 5,
   "metadata": {},
   "outputs": [
    {
     "data": {
      "image/png": "[encoded data removed]",
      "text/plain": [
       "<Figure size 238.11x155.906 with 1 Axes>"
      ]
     },
     "metadata": {},
     "output_type": "display_data"
    }
   ],
   "source": [
    "fig1 = sns.lineplot(x=\"input size\", y=\"time\", data=quick, hue ='input ordering')\n",
    "plt.title('Quick Sort')\n",
    "fig1 = fig1.get_figure()\n",
    "fig1.savefig(\"output1.pdf\")"
   ]
  },
  {
   "cell_type": "code",
   "execution_count": 6,
   "metadata": {},
   "outputs": [],
   "source": [
    "heap=pd.read_pickle(\"./benchmark_results_heap.pkl\")"
   ]
  },
  {
   "cell_type": "code",
   "execution_count": 7,
   "metadata": {},
   "outputs": [
    {
     "data": {
      "image/png": "[encoded data removed]",
      "text/plain": [
       "<Figure size 238.11x155.906 with 1 Axes>"
      ]
     },
     "metadata": {},
     "output_type": "display_data"
    }
   ],
   "source": [
    "fig1 = sns.lineplot(x=\"input size\", y=\"time\", data=heap, hue ='input ordering')\n",
    "plt.title('Heap Sort')\n",
    "fig1 = fig1.get_figure()\n",
    "fig1.savefig(\"output2.pdf\")"
   ]
  },
  {
   "cell_type": "code",
   "execution_count": 8,
   "metadata": {},
   "outputs": [],
   "source": [
    "merge=pd.read_pickle(\"./benchmark_results_merge.pkl\")"
   ]
  },
  {
   "cell_type": "code",
   "execution_count": 9,
   "metadata": {},
   "outputs": [
    {
     "data": {
      "image/png": "[encoded data removed]",
      "text/plain": [
       "<Figure size 238.11x155.906 with 1 Axes>"
      ]
     },
     "metadata": {},
     "output_type": "display_data"
    }
   ],
   "source": [
    "fig1 = sns.lineplot(x=\"input size\", y=\"time\", data=merge, hue ='input ordering')\n",
    "plt.title('Merge Sort')\n",
    "fig1 = fig1.get_figure()\n",
    "fig1.savefig(\"output3.pdf\")"
   ]
  },
  {
   "cell_type": "code",
   "execution_count": 10,
   "metadata": {},
   "outputs": [],
   "source": [
    "python = pd.read_pickle(\"./benchmark_results_python.pkl\")"
   ]
  },
  {
   "cell_type": "code",
   "execution_count": 11,
   "metadata": {},
   "outputs": [
    {
     "data": {
      "image/png": "[encoded data removed]",
      "text/plain": [
       "<Figure size 238.11x155.906 with 1 Axes>"
      ]
     },
     "metadata": {},
     "output_type": "display_data"
    }
   ],
   "source": [
    "fig1 = sns.lineplot(x=\"input size\", y=\"time\", data=python, hue ='input ordering')\n",
    "plt.title('Python Sort')\n",
    "fig1 = fig1.get_figure()\n",
    "fig1.savefig(\"output4.pdf\")"
   ]
  },
  {
   "cell_type": "code",
   "execution_count": 12,
   "metadata": {},
   "outputs": [],
   "source": [
    "numpy = pd.read_pickle(\"./benchmark_results_numpy.pkl\")"
   ]
  },
  {
   "cell_type": "code",
   "execution_count": 13,
   "metadata": {},
   "outputs": [
    {
     "data": {
      "image/png": "[encoded data removed]",
      "text/plain": [
       "<Figure size 238.11x155.906 with 1 Axes>"
      ]
     },
     "metadata": {},
     "output_type": "display_data"
    }
   ],
   "source": [
    "fig1 = sns.lineplot(x=\"input size\", y=\"time\", data=numpy, hue ='input ordering')\n",
    "plt.title('Numpy Sort')\n",
    "fig1 = fig1.get_figure()\n",
    "fig1.savefig(\"output5.pdf\")"
   ]
  },
  {
   "cell_type": "markdown",
   "metadata": {},
   "source": [
    "## Combined Dataframe"
   ]
  },
  {
   "cell_type": "code",
   "execution_count": 14,
   "metadata": {},
   "outputs": [],
   "source": [
    "frames = [ heap, merge,quick,numpy,python]"
   ]
  },
  {
   "cell_type": "code",
   "execution_count": 15,
   "metadata": {},
   "outputs": [
    {
     "name": "stderr",
     "output_type": "stream",
     "text": [
      "C:\\Users\\Ashesh\\Anaconda3\\lib\\site-packages\\ipykernel_launcher.py:1: FutureWarning: Sorting because non-concatenation axis is not aligned. A future version\n",
      "of pandas will change to not sort by default.\n",
      "\n",
      "To accept the future behavior, pass 'sort=False'.\n",
      "\n",
      "To retain the current behavior and silence the warning, pass 'sort=True'.\n",
      "\n",
      "  \"\"\"Entry point for launching an IPython kernel.\n"
     ]
    }
   ],
   "source": [
    "combined = pd.concat(frames, axis =0)"
   ]
  },
  {
   "cell_type": "markdown",
   "metadata": {},
   "source": [
    "## Plot for sorted data"
   ]
  },
  {
   "cell_type": "code",
   "execution_count": 16,
   "metadata": {},
   "outputs": [],
   "source": [
    "df_sorted = combined[combined['input ordering'] == 'sorted']"
   ]
  },
  {
   "cell_type": "code",
   "execution_count": 17,
   "metadata": {},
   "outputs": [
    {
     "data": {
      "image/png": "[encoded data removed]",
      "text/plain": [
       "<Figure size 238.11x155.906 with 1 Axes>"
      ]
     },
     "metadata": {},
     "output_type": "display_data"
    }
   ],
   "source": [
    "fig1 = sns.lineplot(x='input size', y='time', hue='sorting algorithm', data=df_sorted)\n",
    "plt.title('Sorted Data')\n",
    "fig1 = fig1.get_figure()\n",
    "fig1.savefig(\"output6.pdf\")"
   ]
  },
  {
   "cell_type": "markdown",
   "metadata": {},
   "source": [
    "## Plot for reversed data"
   ]
  },
  {
   "cell_type": "code",
   "execution_count": 18,
   "metadata": {},
   "outputs": [
    {
     "data": {
      "image/png": "[encoded data removed]",
      "text/plain": [
       "<Figure size 238.11x155.906 with 1 Axes>"
      ]
     },
     "metadata": {},
     "output_type": "display_data"
    }
   ],
   "source": [
    "df_reversed = combined[combined['input ordering'] == 'reversed']\n",
    "fig1= sns.lineplot(x='input size', y='time', hue='sorting algorithm', data=df_reversed)\n",
    "plt.title('Reversed Data')\n",
    "fig1 = fig1.get_figure()\n",
    "fig1.savefig(\"output7.pdf\")"
   ]
  },
  {
   "cell_type": "markdown",
   "metadata": {},
   "source": [
    "## Random Data"
   ]
  },
  {
   "cell_type": "code",
   "execution_count": 19,
   "metadata": {},
   "outputs": [
    {
     "data": {
      "image/png": "[encoded data removed]",
      "text/plain": [
       "<Figure size 238.11x155.906 with 1 Axes>"
      ]
     },
     "metadata": {},
     "output_type": "display_data"
    }
   ],
   "source": [
    "df_random = combined[combined['input ordering'] == 'random']\n",
    "fig1=sns.lineplot(x='input size', y='time', hue='sorting algorithm', data=df_random)\n",
    "plt.title(\"Random Data\")\n",
    "fig1 = fig1.get_figure()\n",
    "fig1.savefig(\"output8.pdf\")"
   ]
  },
  {
   "cell_type": "markdown",
   "metadata": {},
   "source": [
    "## Identical Data"
   ]
  },
  {
   "cell_type": "code",
   "execution_count": 20,
   "metadata": {},
   "outputs": [
    {
     "data": {
      "image/png": "[encoded data removed]",
      "text/plain": [
       "<Figure size 238.11x155.906 with 1 Axes>"
      ]
     },
     "metadata": {},
     "output_type": "display_data"
    }
   ],
   "source": [
    "df_identical = combined[combined['input ordering'] == 'identical']\n",
    "fig1=sns.lineplot(x='input size', y='time', hue='sorting algorithm', data=df_identical)\n",
    "plt.title(\"Identical Data\")\n",
    "fig1 = fig1.get_figure()\n",
    "fig1.savefig(\"output9.pdf\")"
   ]
  },
  {
   "cell_type": "code",
   "execution_count": null,
   "metadata": {},
   "outputs": [],
   "source": []
  }
 ],
 "metadata": {
  "kernelspec": {
   "display_name": "Python 3",
   "language": "python",
   "name": "python3"
  },
  "language_info": {
   "codemirror_mode": {
    "name": "ipython",
    "version": 3
   },
   "file_extension": ".py",
   "mimetype": "text/x-python",
   "name": "python",
   "nbconvert_exporter": "python",
   "pygments_lexer": "ipython3",
   "version": "3.7.3"
  }
 },
 "nbformat": 4,
 "nbformat_minor": 2
}
